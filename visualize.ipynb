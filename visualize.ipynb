{
 "cells": [
  {
   "cell_type": "code",
   "execution_count": 1,
   "metadata": {},
   "outputs": [],
   "source": [
    "import numpy as np\n",
    "fpath = '/checkpoint/massran/async_maopy_playground/qp/n{world_size}/{alg}/r{rank}_n{world_size}.npz'"
   ]
  },
  {
   "cell_type": "code",
   "execution_count": 2,
   "metadata": {},
   "outputs": [],
   "source": [
    "def load_data(world_size=2, alg='gp', rank='0'):\n",
    "    arg_list, time_list = [], []\n",
    "    data = np.load(fpath.format(world_size=world_size, alg=alg, rank=rank))['argmin_est'].item()\n",
    "    for itr in data:\n",
    "        t, v = data[itr]\n",
    "        arg_list.append(v.flatten())\n",
    "        time_list.append(t)\n",
    "    return time_list, arg_list"
   ]
  },
  {
   "cell_type": "code",
   "execution_count": 3,
   "metadata": {},
   "outputs": [],
   "source": [
    "def load_objective(fpath='qp_data_sg.npz'):\n",
    "    data_fpath = './datasets/' + fpath\n",
    "    data = np.load(data_fpath)\n",
    "    a_m = data['A']\n",
    "    b_v = data['b']\n",
    "    print(a_m.shape, b_v.shape)\n",
    "    return lambda x: .5 * np.linalg.norm(a_m.dot(x) - b_v)**2"
   ]
  },
  {
   "cell_type": "code",
   "execution_count": 4,
   "metadata": {},
   "outputs": [],
   "source": [
    "def get_world_data(world_size=2, alg='gp'):\n",
    "    time_list, arg_list = [], []\n",
    "    for rank in range(world_size):\n",
    "        tl, al = load_data(rank=rank, world_size=world_size, alg=alg)\n",
    "        time_list += tl\n",
    "        arg_list += al\n",
    "        break\n",
    "    time_list = np.array(time_list)\n",
    "    arg_list = np.array(arg_list)\n",
    "    sorted_indices = np.argsort(time_list)\n",
    "    arg_list = arg_list[sorted_indices]\n",
    "    time_list = time_list[sorted_indices]\n",
    "    objective = load_objective()\n",
    "    y_list = np.array(list(map(objective, arg_list)))\n",
    "    return time_list, y_list"
   ]
  },
  {
   "cell_type": "code",
   "execution_count": 18,
   "metadata": {},
   "outputs": [
    {
     "name": "stdout",
     "output_type": "stream",
     "text": [
      "(2560000, 50) (2560000,)\n",
      "(2560000, 50) (2560000,)\n"
     ]
    }
   ],
   "source": [
    "alg_list = ['agp', 'gp']\n",
    "world_size_list = [2]\n",
    "data_dict = {}\n",
    "for alg in alg_list:\n",
    "    data_dict[alg] = {}\n",
    "    data_dict[alg]['time'] = []\n",
    "    data_dict[alg]['globj'] = []\n",
    "    for ws in world_size_list:\n",
    "        tl, yl = get_world_data(ws, alg)\n",
    "        data_dict[alg]['time'].append(tl)\n",
    "        data_dict[alg]['globj'].append(yl)"
   ]
  },
  {
   "cell_type": "code",
   "execution_count": 19,
   "metadata": {},
   "outputs": [
    {
     "data": {
      "image/png": "[encoded data removed]",
      "text/plain": [
       "<matplotlib.figure.Figure at 0x7fe7433485f8>"
      ]
     },
     "metadata": {},
     "output_type": "display_data"
    }
   ],
   "source": [
    "import matplotlib.pyplot as plt\n",
    "for alg in data_dict:\n",
    "    time_list = data_dict[alg]['time']\n",
    "    globj_list = data_dict[alg]['globj']\n",
    "    for i, tup in enumerate(zip(time_list, globj_list)):\n",
    "        tl, yl = tup\n",
    "        plt.semilogy(yl, label='%s:n%s' % (alg, 2**(i + 1)))\n",
    "plt.xlabel('time (s)')\n",
    "plt.ylabel('global loss')\n",
    "plt.legend()\n",
    "plt.show()"
   ]
  }
 ],
 "metadata": {
  "kernelspec": {
   "display_name": "Python 3",
   "language": "python",
   "name": "python3"
  },
  "language_info": {
   "codemirror_mode": {
    "name": "ipython",
    "version": 3
   },
   "file_extension": ".py",
   "mimetype": "text/x-python",
   "name": "python",
   "nbconvert_exporter": "python",
   "pygments_lexer": "ipython3",
   "version": "3.6.3"
  }
 },
 "nbformat": 4,
 "nbformat_minor": 2
}
